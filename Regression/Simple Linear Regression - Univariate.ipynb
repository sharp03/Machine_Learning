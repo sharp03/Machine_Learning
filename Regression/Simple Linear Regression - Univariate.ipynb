{
 "cells": [
  {
   "cell_type": "code",
   "execution_count": 1,
   "metadata": {},
   "outputs": [],
   "source": [
    "# ==============================\n",
    "# Import the modules\n",
    "# ==============================\n",
    "import pandas as pd\n",
    "import matplotlib.pyplot as plt\n",
    "import numpy as np\n",
    "from sklearn import linear_model\n",
    "from sklearn.model_selection import train_test_split\n",
    "import logging, json\n",
    "from sys import stdout\n",
    "\n",
    "# Plotting settings\n",
    "%matplotlib inline"
   ]
  },
  {
   "cell_type": "code",
   "execution_count": 2,
   "metadata": {},
   "outputs": [],
   "source": [
    "# ==============================\n",
    "# Create a logger\n",
    "# ==============================\n",
    "\n",
    "logger = logging.getLogger(__name__)\n",
    "\n",
    "# Create console handler\n",
    "consoleHandler = logging.StreamHandler(stdout)\n",
    "consoleHandler.setLevel(logging.DEBUG)\n",
    "\n",
    "# Create a time formatter\n",
    "FORMAT = '[%(asctime)s:%(levelname)s] %(message)s'\n",
    "formatter = logging.Formatter(FORMAT)\n",
    "consoleHandler.setFormatter(formatter)\n",
    "\n",
    "# Delete existing handler (if any)\n",
    "if (logger.hasHandlers()):\n",
    "    logger.info(\"Existing logging handers found\")\n",
    "    logger.handlers.clear()\n",
    "    logger.info(\"Existing handlers have been deleted\")\n",
    "    \n",
    "# Add the console handler and set console logging level\n",
    "logger.addHandler(consoleHandler)\n",
    "logger.setLevel(level=logging.DEBUG)"
   ]
  },
  {
   "cell_type": "code",
   "execution_count": 3,
   "metadata": {},
   "outputs": [
    {
     "name": "stdout",
     "output_type": "stream",
     "text": [
      "[2020-10-25 13:44:39,048:INFO] Create the dummy data..\n",
      "[2020-10-25 13:44:39,058:INFO] Dummy data has been created\n"
     ]
    },
    {
     "data": {
      "text/html": [
       "<div>\n",
       "<style scoped>\n",
       "    .dataframe tbody tr th:only-of-type {\n",
       "        vertical-align: middle;\n",
       "    }\n",
       "\n",
       "    .dataframe tbody tr th {\n",
       "        vertical-align: top;\n",
       "    }\n",
       "\n",
       "    .dataframe thead th {\n",
       "        text-align: right;\n",
       "    }\n",
       "</style>\n",
       "<table border=\"1\" class=\"dataframe\">\n",
       "  <thead>\n",
       "    <tr style=\"text-align: right;\">\n",
       "      <th></th>\n",
       "      <th>area</th>\n",
       "      <th>price</th>\n",
       "    </tr>\n",
       "  </thead>\n",
       "  <tbody>\n",
       "    <tr>\n",
       "      <th>0</th>\n",
       "      <td>2600</td>\n",
       "      <td>550000</td>\n",
       "    </tr>\n",
       "    <tr>\n",
       "      <th>1</th>\n",
       "      <td>3000</td>\n",
       "      <td>565000</td>\n",
       "    </tr>\n",
       "    <tr>\n",
       "      <th>2</th>\n",
       "      <td>3200</td>\n",
       "      <td>610000</td>\n",
       "    </tr>\n",
       "    <tr>\n",
       "      <th>3</th>\n",
       "      <td>3600</td>\n",
       "      <td>680000</td>\n",
       "    </tr>\n",
       "    <tr>\n",
       "      <th>4</th>\n",
       "      <td>4000</td>\n",
       "      <td>725000</td>\n",
       "    </tr>\n",
       "  </tbody>\n",
       "</table>\n",
       "</div>"
      ],
      "text/plain": [
       "   area   price\n",
       "0  2600  550000\n",
       "1  3000  565000\n",
       "2  3200  610000\n",
       "3  3600  680000\n",
       "4  4000  725000"
      ]
     },
     "execution_count": 3,
     "metadata": {},
     "output_type": "execute_result"
    }
   ],
   "source": [
    "# ==============================\n",
    "# Create dummy data \n",
    "# ==============================\n",
    "logger.info(\"Create the dummy data..\")\n",
    "data = {\n",
    "        'area'  : [2600, 3000, 3200, 3600, 4000, 2500, 2600, 3100, 5000, 4500],\n",
    "        'price' : [550000, 565000, 610000, 680000, 725000, 500000, 510000, 600000, 815000, 478000]\n",
    "        }\n",
    "df = pd.DataFrame(data)\n",
    "logger.info(\"Dummy data has been created\")\n",
    "df.head()"
   ]
  },
  {
   "cell_type": "code",
   "execution_count": 4,
   "metadata": {},
   "outputs": [
    {
     "data": {
      "text/plain": [
       "<matplotlib.collections.PathCollection at 0x2257bb3fdc8>"
      ]
     },
     "execution_count": 4,
     "metadata": {},
     "output_type": "execute_result"
    },
    {
     "data": {
      "image/png": "[encoded data removed]",
      "text/plain": [
       "<Figure size 432x288 with 1 Axes>"
      ]
     },
     "metadata": {
      "needs_background": "light"
     },
     "output_type": "display_data"
    }
   ],
   "source": [
    "# Plot the data\n",
    "plt.title(\"Scatter Plot of House Price Data\")\n",
    "plt.xlabel('area')\n",
    "plt.ylabel('price')\n",
    "plt.scatter(df['area'], df['price'],marker='*')"
   ]
  },
  {
   "cell_type": "code",
   "execution_count": 5,
   "metadata": {},
   "outputs": [
    {
     "name": "stdout",
     "output_type": "stream",
     "text": [
      "[2020-10-25 13:44:39,503:INFO] Creating train and test split..\n",
      "[2020-10-25 13:44:39,508:INFO] Shape of train data => X_train : (7, 1) and y_train : (7, 1)\n",
      "[2020-10-25 13:44:39,511:INFO] Shape of test data  => X_test  : (3, 1) and y_test  : (3, 1)\n"
     ]
    }
   ],
   "source": [
    "# ==========================\n",
    "# Train and Test Split\n",
    "# ==========================\n",
    "logger.info(\"Creating train and test split..\")\n",
    "X = df['area']\n",
    "y = df['price']\n",
    "\n",
    "X_train, X_test, y_train, y_test = train_test_split(X, y, test_size=0.25)\n",
    "\n",
    "X_train = np.array(X_train).reshape(-1, 1)\n",
    "y_train = np.array(y_train).reshape(-1, 1)\n",
    "X_test = np.array(X_test).reshape(-1, 1)\n",
    "y_test = np.array(y_test).reshape(-1, 1)\n",
    "\n",
    "logger.info(\"Shape of train data => X_train : {} and y_train : {}\".format(X_train.shape, y_train.shape))\n",
    "logger.info(\"Shape of test data  => X_test  : {} and y_test  : {}\".format(X_test.shape, y_test.shape))"
   ]
  },
  {
   "cell_type": "markdown",
   "metadata": {},
   "source": [
    "## Training and Forecast via Module"
   ]
  },
  {
   "cell_type": "code",
   "execution_count": 6,
   "metadata": {},
   "outputs": [
    {
     "name": "stdout",
     "output_type": "stream",
     "text": [
      "[2020-10-25 13:44:39,625:INFO] Creating a linear regression model..\n",
      "[2020-10-25 13:44:39,628:INFO] Training the model..\n",
      "[2020-10-25 13:44:39,634:INFO] Model has been trained!\n"
     ]
    }
   ],
   "source": [
    "# ====================================\n",
    "# Linear Regression model training\n",
    "# ====================================\n",
    "logger.info(\"Creating a linear regression model..\")\n",
    "model = linear_model.LinearRegression()\n",
    "logger.info(\"Training the model..\")\n",
    "\n",
    "model.fit(X_train, y_train)\n",
    "logger.info(\"Model has been trained!\")"
   ]
  },
  {
   "cell_type": "code",
   "execution_count": 7,
   "metadata": {},
   "outputs": [
    {
     "data": {
      "text/plain": [
       "array([[628775.3164557 ],\n",
       "       [576142.40506329],\n",
       "       [576142.40506329]])"
      ]
     },
     "execution_count": 7,
     "metadata": {},
     "output_type": "execute_result"
    }
   ],
   "source": [
    "model.predict(X_test)"
   ]
  },
  {
   "cell_type": "code",
   "execution_count": 8,
   "metadata": {},
   "outputs": [
    {
     "data": {
      "text/plain": [
       "array([[584914.55696203]])"
      ]
     },
     "execution_count": 8,
     "metadata": {},
     "output_type": "execute_result"
    }
   ],
   "source": [
    "x = 3000\n",
    "x = [[x]]\n",
    "model.predict(x)"
   ]
  },
  {
   "cell_type": "code",
   "execution_count": 15,
   "metadata": {},
   "outputs": [],
   "source": [
    "def make_forecast(x_input):\n",
    "    \"\"\"\n",
    "    Make the future step forecast\n",
    "    \"\"\"\n",
    "    if np.isscalar(x_input):\n",
    "        x_input = [[x_input]]\n",
    "        prediction = model.predict(x_input)\n",
    "        prediction = prediction[0][0]\n",
    "        x_input = x_input[0][0]\n",
    "        logger.info(\"Price prediction for area of {} is {}\".format(x_input, prediction))\n",
    "    else:\n",
    "        pred = model.predict(x_input)\n",
    "        prediction = {'Area'          : list(x_input.flatten()),\n",
    "                      'Price_Forecast': list(pred.flatten())}\n",
    "        prediction = pd.DataFrame(prediction)\n",
    "        print(prediction)"
   ]
  },
  {
   "cell_type": "code",
   "execution_count": 16,
   "metadata": {},
   "outputs": [
    {
     "name": "stdout",
     "output_type": "stream",
     "text": [
      "[2020-10-25 13:48:53,022:INFO] Price prediction for area of 5000 is 628775.3164556962\n"
     ]
    }
   ],
   "source": [
    "make_forecast(5000)"
   ]
  },
  {
   "cell_type": "code",
   "execution_count": 17,
   "metadata": {},
   "outputs": [
    {
     "name": "stdout",
     "output_type": "stream",
     "text": [
      "   Area  Price_Forecast\n",
      "0  5000   628775.316456\n",
      "1  2600   576142.405063\n",
      "2  2600   576142.405063\n"
     ]
    }
   ],
   "source": [
    "make_forecast(X_test)"
   ]
  },
  {
   "cell_type": "markdown",
   "metadata": {},
   "source": [
    "## Training and Forecast via Logic"
   ]
  },
  {
   "cell_type": "code",
   "execution_count": null,
   "metadata": {},
   "outputs": [],
   "source": []
  }
 ],
 "metadata": {
  "kernelspec": {
   "display_name": "Python 3",
   "language": "python",
   "name": "python3"
  },
  "language_info": {
   "codemirror_mode": {
    "name": "ipython",
    "version": 3
   },
   "file_extension": ".py",
   "mimetype": "text/x-python",
   "name": "python",
   "nbconvert_exporter": "python",
   "pygments_lexer": "ipython3",
   "version": "3.7.9"
  }
 },
 "nbformat": 4,
 "nbformat_minor": 4
}
